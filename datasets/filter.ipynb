{
 "cells": [
  {
   "cell_type": "code",
   "execution_count": 1,
   "metadata": {},
   "outputs": [],
   "source": [
    "import pandas as pd\n",
    "import numpy as np"
   ]
  },
  {
   "cell_type": "code",
   "execution_count": null,
   "metadata": {},
   "outputs": [],
   "source": [
    "datasets = [\n",
    "    'Data-A.csv',\n",
    "    'Data-B.csv',\n",
    "    'Data-C.csv',\n",
    "    'Data-D.csv',\n",
    "    'Data-E.csv',\n",
    "    'Data-F.csv',\n",
    "    'Data-G.csv',\n",
    "    'fgfr1_AHOent0.25.csv'\n",
    "    'tead3_filt1consec_present2ndtolast.csv',\n",
    "]"
   ]
  },
  {
   "cell_type": "code",
   "execution_count": 3,
   "metadata": {},
   "outputs": [
    {
     "name": "stdout",
     "output_type": "stream",
     "text": [
      "fgfr1_AHOent0.25.csv ['0', '1', '2', '3']\n",
      "(27843, 5)\n",
      "(27843, 5)\n"
     ]
    }
   ],
   "source": [
    "for dataset in datasets:\n",
    "    df = pd.read_csv(f'__raw/{dataset}', index_col = 0)\n",
    "\n",
    "    round_cols = [col for col in df.columns][:-1]\n",
    "    if 'tead3' in dataset:\n",
    "        round_cols = [str(r) for r in range(7)]\n",
    "\n",
    "    print(dataset, round_cols)\n",
    "    print(df.shape)\n",
    "    all_zeros = df[round_cols].sum(axis = 'columns') == 0\n",
    "    df = df[~all_zeros]\n",
    "    print(df.shape)\n",
    "\n",
    "    df['Genotype'] = df.index\n",
    "    df = df.reset_index(drop = True)\n",
    "\n",
    "    # df.to_csv(f'filtzero_without_lastround/v2_{dataset}')\n",
    "    df.to_csv(f'filtzero_without_lastround/{dataset}')"
   ]
  },
  {
   "cell_type": "code",
   "execution_count": 7,
   "metadata": {},
   "outputs": [
    {
     "name": "stdout",
     "output_type": "stream",
     "text": [
      "Data-D.csv ['Initial_1', 'r1_1']\n",
      "(470312, 4)\n",
      "(448791, 4)\n",
      "Data-F.csv ['G0', 'D1.25', 'D2.25']\n",
      "(23856, 5)\n",
      "(23856, 5)\n",
      "tead3_filt1consec_present2ndtolast.csv ['0', '1', '2', '3', '4']\n",
      "(25938, 10)\n",
      "(25763, 10)\n",
      "fgfr1_AHOent0.25.csv ['0', '1', '2']\n",
      "(27843, 5)\n",
      "(26299, 5)\n"
     ]
    }
   ],
   "source": [
    "for dataset in datasets:\n",
    "    df = pd.read_csv(f'__raw/{dataset}', index_col = 0)\n",
    "\n",
    "    round_cols = [col for col in df.columns][:-2]\n",
    "    if 'tead3' in dataset:\n",
    "        # round_cols = [str(r) for r in range(7)]\n",
    "        round_cols = [str(r) for r in range(5)]\n",
    "\n",
    "    print(dataset, round_cols)\n",
    "    print(df.shape)\n",
    "    all_zeros = df[round_cols].sum(axis = 'columns') == 0\n",
    "    df = df[~all_zeros]\n",
    "    print(df.shape)\n",
    "\n",
    "    df['Genotype'] = df.index\n",
    "    df = df.reset_index(drop = True)\n",
    "\n",
    "    # df.to_csv(f'filtzero_without_lastround/v2_{dataset}')\n",
    "    df.to_csv(f'filtzero_without_2ndtolastround/{dataset}')"
   ]
  }
 ],
 "metadata": {
  "kernelspec": {
   "display_name": "deepfitness",
   "language": "python",
   "name": "python3"
  },
  "language_info": {
   "codemirror_mode": {
    "name": "ipython",
    "version": 3
   },
   "file_extension": ".py",
   "mimetype": "text/x-python",
   "name": "python",
   "nbconvert_exporter": "python",
   "pygments_lexer": "ipython3",
   "version": "3.10.10"
  }
 },
 "nbformat": 4,
 "nbformat_minor": 2
}
